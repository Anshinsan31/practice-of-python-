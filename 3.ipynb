{
  "nbformat": 4,
  "nbformat_minor": 0,
  "metadata": {
    "colab": {
      "provenance": []
    },
    "kernelspec": {
      "name": "python3",
      "display_name": "Python 3"
    },
    "language_info": {
      "name": "python"
    }
  },
  "cells": [
    {
      "cell_type": "code",
      "execution_count": null,
      "metadata": {
        "colab": {
          "base_uri": "https://localhost:8080/"
        },
        "id": "1BvsapguKb2F",
        "outputId": "1aa992fd-41f0-4ead-8acb-62633f20e6a6"
      },
      "outputs": [
        {
          "output_type": "stream",
          "name": "stdout",
          "text": [
            "hello\n"
          ]
        }
      ],
      "source": [
        "#list,touple,dictionary\n",
        "list1 =[2]\n",
        "touple= (2)\n",
        "dictionary={2}"
      ]
    },
    {
      "cell_type": "code",
      "source": [
        "l1= [11,46,897,435,\"tgr\",\"dtse\"]     #print krne kai liye print likhne ki need nahi hoti list ,touple or dictonary mai\n",
        "l1"
      ],
      "metadata": {
        "colab": {
          "base_uri": "https://localhost:8080/"
        },
        "id": "YUkAZVSsKn_W",
        "outputId": "71c0b481-a40d-48be-c4b5-05a6054bccd2"
      },
      "execution_count": null,
      "outputs": [
        {
          "output_type": "execute_result",
          "data": {
            "text/plain": [
              "[11, 46, 897, 435, 'tgr', 'dtse']"
            ]
          },
          "metadata": {},
          "execution_count": 1
        }
      ]
    },
    {
      "cell_type": "code",
      "source": [
        "t1= (11,46,897,435)\n",
        "t1"
      ],
      "metadata": {
        "id": "8Fctr6F6K1cO",
        "colab": {
          "base_uri": "https://localhost:8080/"
        },
        "outputId": "9455e374-8608-4aa3-aceb-ca59f3bf2cee"
      },
      "execution_count": null,
      "outputs": [
        {
          "output_type": "execute_result",
          "data": {
            "text/plain": [
              "(11, 46, 897, 435)"
            ]
          },
          "metadata": {},
          "execution_count": 3
        }
      ]
    },
    {
      "cell_type": "code",
      "source": [
        "#string, lists        #string indexing\n",
        "A= \"this is a string\"\n",
        "A[0:3]\n",
        "A[0:8:2]                       #name[starting index : ending index :step size]\n"
      ],
      "metadata": {
        "colab": {
          "base_uri": "https://localhost:8080/",
          "height": 36
        },
        "id": "fx77GU2IR5pf",
        "outputId": "2ce13675-502e-4984-f5b7-42ec4ba6bea0"
      },
      "execution_count": null,
      "outputs": [
        {
          "output_type": "execute_result",
          "data": {
            "text/plain": [
              "'ti s'"
            ],
            "application/vnd.google.colaboratory.intrinsic+json": {
              "type": "string"
            }
          },
          "metadata": {},
          "execution_count": 8
        }
      ]
    },
    {
      "cell_type": "code",
      "source": [
        "list2 = [11, 33, 44, 66, \"s \"]\n",
        "list2"
      ],
      "metadata": {
        "colab": {
          "base_uri": "https://localhost:8080/"
        },
        "id": "n554M9gwSwmc",
        "outputId": "3d129594-71e8-43b5-9035-b5c17086ed06"
      },
      "execution_count": null,
      "outputs": [
        {
          "output_type": "execute_result",
          "data": {
            "text/plain": [
              "[11, 33, 44, 66, 's ']"
            ]
          },
          "metadata": {},
          "execution_count": 16
        }
      ]
    },
    {
      "cell_type": "code",
      "source": [
        "touple1 = (11,33,66,\"ansh\")\n",
        "touple1\n"
      ],
      "metadata": {
        "colab": {
          "base_uri": "https://localhost:8080/"
        },
        "id": "YeKt2W-ITA9F",
        "outputId": "7ad24000-3d73-4976-e7c3-b4e794aca842"
      },
      "execution_count": null,
      "outputs": [
        {
          "output_type": "execute_result",
          "data": {
            "text/plain": [
              "(11, 33, 66, 'ansh')"
            ]
          },
          "metadata": {},
          "execution_count": 19
        }
      ]
    },
    {
      "cell_type": "code",
      "source": [
        "dict={11,33.55,99}\n",
        "dict"
      ],
      "metadata": {
        "colab": {
          "base_uri": "https://localhost:8080/"
        },
        "id": "m4Ba6OOqUzRF",
        "outputId": "0973c2b1-4d30-489e-e573-c0b7f95bf4cd"
      },
      "execution_count": null,
      "outputs": [
        {
          "output_type": "execute_result",
          "data": {
            "text/plain": [
              "{11, 33.55, 99}"
            ]
          },
          "metadata": {},
          "execution_count": 21
        }
      ]
    },
    {
      "cell_type": "code",
      "source": [
        "a = \"i'm ansh\"        # positive indexing always starts fron 0\n",
        "a[2:5]"
      ],
      "metadata": {
        "colab": {
          "base_uri": "https://localhost:8080/",
          "height": 36
        },
        "id": "9gLlUsOLU-rv",
        "outputId": "92c2a8a0-86fb-44b0-b174-c7365186ab53"
      },
      "execution_count": null,
      "outputs": [
        {
          "output_type": "execute_result",
          "data": {
            "text/plain": [
              "'m a'"
            ],
            "application/vnd.google.colaboratory.intrinsic+json": {
              "type": "string"
            }
          },
          "metadata": {},
          "execution_count": 22
        }
      ]
    },
    {
      "cell_type": "code",
      "source": [
        "a = \"i'm ansh\"\n",
        "a[-2:-5:-1]\n"
      ],
      "metadata": {
        "colab": {
          "base_uri": "https://localhost:8080/",
          "height": 36
        },
        "id": "anwgjnWpVZYN",
        "outputId": "ca78d44b-c79f-4023-d2c1-a402d9aa799c"
      },
      "execution_count": null,
      "outputs": [
        {
          "output_type": "execute_result",
          "data": {
            "text/plain": [
              "'sna'"
            ],
            "application/vnd.google.colaboratory.intrinsic+json": {
              "type": "string"
            }
          },
          "metadata": {},
          "execution_count": 41
        }
      ]
    },
    {
      "cell_type": "code",
      "source": [
        "a[-5:-2]   #negative indexing starts fron -1       move left to right"
      ],
      "metadata": {
        "colab": {
          "base_uri": "https://localhost:8080/",
          "height": 36
        },
        "id": "ON81LkThVxch",
        "outputId": "423709e5-697b-4493-caf2-6a6351d23a3a"
      },
      "execution_count": null,
      "outputs": [
        {
          "output_type": "execute_result",
          "data": {
            "text/plain": [
              "' an'"
            ],
            "application/vnd.google.colaboratory.intrinsic+json": {
              "type": "string"
            }
          },
          "metadata": {},
          "execution_count": 25
        }
      ]
    },
    {
      "cell_type": "code",
      "source": [
        "#default indexing\n",
        "strg= \" ry ryr ytru tydrydrt urdyse  re rhjgkuitwsfgf\"\n",
        "len(strg)"
      ],
      "metadata": {
        "colab": {
          "base_uri": "https://localhost:8080/"
        },
        "id": "pyN2BGgOWGGI",
        "outputId": "209e7af5-6f54-4932-d56e-c02a81a20f67"
      },
      "execution_count": null,
      "outputs": [
        {
          "output_type": "execute_result",
          "data": {
            "text/plain": [
              "46"
            ]
          },
          "metadata": {},
          "execution_count": 27
        }
      ]
    },
    {
      "cell_type": "code",
      "source": [
        "A= a+strg\n",
        "A"
      ],
      "metadata": {
        "colab": {
          "base_uri": "https://localhost:8080/",
          "height": 36
        },
        "id": "AaSp9-NEWvC3",
        "outputId": "6f14bb48-b464-4496-c7ac-faab7650e614"
      },
      "execution_count": null,
      "outputs": [
        {
          "output_type": "execute_result",
          "data": {
            "text/plain": [
              "\"i'm ansh ry ryr ytru tydrydrt urdyse  re rhjgkuitwsfgf\""
            ],
            "application/vnd.google.colaboratory.intrinsic+json": {
              "type": "string"
            }
          },
          "metadata": {},
          "execution_count": 30
        }
      ]
    },
    {
      "cell_type": "code",
      "source": [
        "A[0:10]"
      ],
      "metadata": {
        "colab": {
          "base_uri": "https://localhost:8080/",
          "height": 36
        },
        "id": "_eutLP3IW7xV",
        "outputId": "3ad2b399-6e0b-447d-957e-27ac06e9418e"
      },
      "execution_count": null,
      "outputs": [
        {
          "output_type": "execute_result",
          "data": {
            "text/plain": [
              "\"i'm ansh r\""
            ],
            "application/vnd.google.colaboratory.intrinsic+json": {
              "type": "string"
            }
          },
          "metadata": {},
          "execution_count": 31
        }
      ]
    },
    {
      "cell_type": "code",
      "source": [
        "A[ :10]"
      ],
      "metadata": {
        "colab": {
          "base_uri": "https://localhost:8080/",
          "height": 36
        },
        "id": "ykihh0ZlXFVn",
        "outputId": "e7ebc844-d1df-4c56-c7aa-8b5694b75366"
      },
      "execution_count": null,
      "outputs": [
        {
          "output_type": "execute_result",
          "data": {
            "text/plain": [
              "\"i'm ansh r\""
            ],
            "application/vnd.google.colaboratory.intrinsic+json": {
              "type": "string"
            }
          },
          "metadata": {},
          "execution_count": 33
        }
      ]
    },
    {
      "cell_type": "code",
      "source": [
        "A[ : : ]"
      ],
      "metadata": {
        "colab": {
          "base_uri": "https://localhost:8080/",
          "height": 36
        },
        "id": "ec6Kp1VJXH2_",
        "outputId": "5ef7c665-167f-46f9-b37a-acd7a4822ecb"
      },
      "execution_count": null,
      "outputs": [
        {
          "output_type": "execute_result",
          "data": {
            "text/plain": [
              "\"i'm ansh ry ryr \""
            ],
            "application/vnd.google.colaboratory.intrinsic+json": {
              "type": "string"
            }
          },
          "metadata": {},
          "execution_count": 36
        }
      ]
    },
    {
      "cell_type": "code",
      "source": [
        "A[: :-2]"
      ],
      "metadata": {
        "colab": {
          "base_uri": "https://localhost:8080/",
          "height": 36
        },
        "id": "364T0cVpXTx6",
        "outputId": "03618ec9-807b-44c7-d2e5-baa367cf2594"
      },
      "execution_count": null,
      "outputs": [
        {
          "output_type": "execute_result",
          "data": {
            "text/plain": [
              "\"ffwikjre eyr rydtut y rhn '\""
            ],
            "application/vnd.google.colaboratory.intrinsic+json": {
              "type": "string"
            }
          },
          "metadata": {},
          "execution_count": 40
        }
      ]
    },
    {
      "cell_type": "code",
      "source": [
        "l1"
      ],
      "metadata": {
        "colab": {
          "base_uri": "https://localhost:8080/"
        },
        "id": "lwcnNlaLXqkJ",
        "outputId": "cd090ea0-2a95-4b40-89be-57ca324b0736"
      },
      "execution_count": null,
      "outputs": [
        {
          "output_type": "execute_result",
          "data": {
            "text/plain": [
              "[11, 46, 897, 435]"
            ]
          },
          "metadata": {},
          "execution_count": 42
        }
      ]
    },
    {
      "cell_type": "code",
      "source": [
        "46 in l1 #membership operator"
      ],
      "metadata": {
        "colab": {
          "base_uri": "https://localhost:8080/"
        },
        "id": "N3ZAdPUYYC7G",
        "outputId": "bb286e0c-c8b7-4687-a32e-5cadb5c3cdcb"
      },
      "execution_count": null,
      "outputs": [
        {
          "output_type": "execute_result",
          "data": {
            "text/plain": [
              "True"
            ]
          },
          "metadata": {},
          "execution_count": 43
        }
      ]
    },
    {
      "cell_type": "code",
      "source": [
        "A.index('f')"
      ],
      "metadata": {
        "colab": {
          "base_uri": "https://localhost:8080/"
        },
        "id": "vfzDS43EYEr2",
        "outputId": "71c5aac9-b7ea-455a-de90-67cc389d12b3"
      },
      "execution_count": null,
      "outputs": [
        {
          "output_type": "execute_result",
          "data": {
            "text/plain": [
              "51"
            ]
          },
          "metadata": {},
          "execution_count": 44
        }
      ]
    },
    {
      "cell_type": "code",
      "source": [
        "#logical operator\n",
        "2>6 or 5<7"
      ],
      "metadata": {
        "colab": {
          "base_uri": "https://localhost:8080/"
        },
        "id": "PfOrG3BzYUNh",
        "outputId": "ef56a947-d6ce-4cee-f3f2-9b6df5952d50"
      },
      "execution_count": null,
      "outputs": [
        {
          "output_type": "execute_result",
          "data": {
            "text/plain": [
              "True"
            ]
          },
          "metadata": {},
          "execution_count": 47
        }
      ]
    },
    {
      "cell_type": "code",
      "source": [
        "import random\n",
        "Dice1 = random.randint(1,600)\n",
        "chances = 1\n",
        "while True:\n",
        " guess= int(input(\"enter your guess \"))\n",
        " chances+=1  # chances = chances +1\n",
        " if Dice1> guess:\n",
        "  print(\"your guess is too small try a big number\")\n",
        " elif Dice1 < guess:\n",
        "  print(\"too big try small\")\n",
        "\n",
        " else:\n",
        "  if Dice1 == guess:\n",
        "   print(\"you won! \",chances)\n",
        "   break"
      ],
      "metadata": {
        "id": "bh0WM-xoYvPi"
      },
      "execution_count": null,
      "outputs": []
    },
    {
      "cell_type": "markdown",
      "source": [],
      "metadata": {
        "id": "MuXKlO3uY3KN"
      }
    },
    {
      "cell_type": "code",
      "source": [
        "from pickle import TRUE\n",
        "import random\n",
        "Dice1 = random.randint(1,6)\n",
        "chances = 1\n",
        "while chances<4:                                                # syntax for while   :   while  condition  statement\n",
        "  guess= int(input(\"enter your guess\"))                          # jaha bhi hm rokna chte hai whi break aata hai\n",
        "  chances+=1\n",
        "  if Dice1 == guess:\n",
        "    print(\"u r right\")\n",
        "\n",
        "\n",
        "\n"
      ],
      "metadata": {
        "id": "0Vm7o4VL6gaJ",
        "colab": {
          "base_uri": "https://localhost:8080/"
        },
        "outputId": "bfc98bb4-c129-4585-e62e-c85ec2aea2a6"
      },
      "execution_count": 4,
      "outputs": [
        {
          "output_type": "stream",
          "name": "stdout",
          "text": [
            "enter your guess2\n",
            "enter your guess3\n",
            "enter your guess4\n",
            "u r right\n"
          ]
        }
      ]
    },
    {
      "cell_type": "code",
      "source": [],
      "metadata": {
        "id": "27WucUB46qVX"
      },
      "execution_count": null,
      "outputs": []
    }
  ]
}